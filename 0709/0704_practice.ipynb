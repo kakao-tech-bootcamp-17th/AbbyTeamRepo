{
 "cells": [
  {
   "cell_type": "code",
   "execution_count": 5,
   "id": "d3bb787c-57fb-49c1-b71d-2b2f808f01ed",
   "metadata": {},
   "outputs": [
    {
     "name": "stdout",
     "output_type": "stream",
     "text": [
      "123\n",
      "123\n"
     ]
    }
   ],
   "source": [
    "num_str = \"123\"\n",
    "num = int(num_str)  # 문자열을 정수로 변환\n",
    "print(num_str)\n",
    "print(num)"
   ]
  },
  {
   "cell_type": "code",
   "execution_count": 7,
   "id": "5c83bfab-5061-4aa5-907d-95c3aa3aa7bd",
   "metadata": {},
   "outputs": [
    {
     "data": {
      "text/plain": [
       "str"
      ]
     },
     "execution_count": 7,
     "metadata": {},
     "output_type": "execute_result"
    }
   ],
   "source": [
    "type(num_str)"
   ]
  },
  {
   "cell_type": "code",
   "execution_count": 9,
   "id": "adda5e4b-66da-499b-b0ac-0a41c77ba129",
   "metadata": {},
   "outputs": [],
   "source": [
    "a = 'aaa'"
   ]
  },
  {
   "cell_type": "code",
   "execution_count": 11,
   "id": "2284aa93-ced6-4d3c-961d-57bb5a9b0edd",
   "metadata": {},
   "outputs": [
    {
     "data": {
      "text/plain": [
       "'aaa'"
      ]
     },
     "execution_count": 11,
     "metadata": {},
     "output_type": "execute_result"
    }
   ],
   "source": [
    "a"
   ]
  },
  {
   "cell_type": "code",
   "execution_count": 13,
   "id": "e6f6dda8-2b95-482c-8dab-5742f961d67d",
   "metadata": {},
   "outputs": [
    {
     "data": {
      "text/plain": [
       "str"
      ]
     },
     "execution_count": 13,
     "metadata": {},
     "output_type": "execute_result"
    }
   ],
   "source": [
    "type(a)"
   ]
  },
  {
   "cell_type": "code",
   "execution_count": 15,
   "id": "aad952a7-c954-431e-bb8f-09b95cafdd9d",
   "metadata": {},
   "outputs": [
    {
     "name": "stdout",
     "output_type": "stream",
     "text": [
      "13\n"
     ]
    }
   ],
   "source": [
    "a = 10\n",
    "b = 3\n",
    "print(a+b)"
   ]
  },
  {
   "cell_type": "code",
   "execution_count": 17,
   "id": "d8f7e039-a6da-4647-b98c-e49322d1ebc0",
   "metadata": {},
   "outputs": [
    {
     "data": {
      "text/plain": [
       "True"
      ]
     },
     "execution_count": 17,
     "metadata": {},
     "output_type": "execute_result"
    }
   ],
   "source": [
    "a>b"
   ]
  },
  {
   "cell_type": "code",
   "execution_count": 19,
   "id": "92afada0-e672-41cd-b3d6-c0d4d078c5f6",
   "metadata": {},
   "outputs": [
    {
     "data": {
      "text/plain": [
       "True"
      ]
     },
     "execution_count": 19,
     "metadata": {},
     "output_type": "execute_result"
    }
   ],
   "source": [
    "a>5 and b<5"
   ]
  },
  {
   "cell_type": "code",
   "execution_count": 21,
   "id": "dbd64c6b-766a-47e8-ad53-d60e704b5d1b",
   "metadata": {},
   "outputs": [
    {
     "name": "stdout",
     "output_type": "stream",
     "text": [
      "ehhh\n"
     ]
    }
   ],
   "source": [
    "age = 20\n",
    "if age < 18 :\n",
    "    print('underaged')\n",
    "elif age == 18 :\n",
    "    print('adult')\n",
    "else :\n",
    "    print('ehhh')"
   ]
  },
  {
   "cell_type": "code",
   "execution_count": 23,
   "id": "02aa8201-d0c0-4601-835a-cce68d700551",
   "metadata": {},
   "outputs": [
    {
     "name": "stdout",
     "output_type": "stream",
     "text": [
      "a\n",
      "b\n",
      "c\n"
     ]
    }
   ],
   "source": [
    "fruits = ['a','b','c']\n",
    "for fruit in fruits :\n",
    "    print(fruit)"
   ]
  },
  {
   "cell_type": "code",
   "execution_count": 25,
   "id": "06a17287-daa8-4334-994d-d5c23cc5f7e8",
   "metadata": {},
   "outputs": [
    {
     "name": "stdout",
     "output_type": "stream",
     "text": [
      "0\n",
      "1\n",
      "2\n",
      "3\n",
      "4\n"
     ]
    }
   ],
   "source": [
    "for i in range(5) :\n",
    "    print(i)"
   ]
  },
  {
   "cell_type": "code",
   "execution_count": 27,
   "id": "f4d4d290-c055-443b-a07c-9d7843fca38f",
   "metadata": {},
   "outputs": [
    {
     "name": "stdout",
     "output_type": "stream",
     "text": [
      "0\n",
      "1\n",
      "2\n",
      "3\n",
      "4\n"
     ]
    }
   ],
   "source": [
    "count = 0\n",
    "while count < 5 :\n",
    "    print(count)\n",
    "    count += 1"
   ]
  },
  {
   "cell_type": "code",
   "execution_count": 29,
   "id": "e51d217c-4159-4082-9f07-be18ed8340f2",
   "metadata": {},
   "outputs": [
    {
     "name": "stdout",
     "output_type": "stream",
     "text": [
      "0\n",
      "1\n",
      "2\n",
      "3\n",
      "4\n",
      "**********\n"
     ]
    }
   ],
   "source": [
    "for i in range(10) :\n",
    "    if i == 5 :\n",
    "        break\n",
    "    print(i)\n",
    "print('*'*10)\n",
    "\n"
   ]
  },
  {
   "cell_type": "code",
   "execution_count": 33,
   "id": "ad013b63-851b-41ae-9099-3dae145b083c",
   "metadata": {},
   "outputs": [
    {
     "name": "stdout",
     "output_type": "stream",
     "text": [
      "1\n",
      "3\n",
      "5\n",
      "7\n",
      "9\n"
     ]
    }
   ],
   "source": [
    "for i in range(10) :\n",
    "    if i%2 == 0:\n",
    "        continue\n",
    "    print(i)"
   ]
  },
  {
   "cell_type": "code",
   "execution_count": 35,
   "id": "611731f9-4f16-45b0-ac8d-e8b7b313bd5f",
   "metadata": {},
   "outputs": [],
   "source": [
    "def greet(name) :\n",
    "    return f\"Hello, {name}!\""
   ]
  },
  {
   "cell_type": "code",
   "execution_count": 37,
   "id": "6aa57db0-08ee-4f67-a178-893dabdf709e",
   "metadata": {},
   "outputs": [
    {
     "data": {
      "text/plain": [
       "'Hello, BOB!'"
      ]
     },
     "execution_count": 37,
     "metadata": {},
     "output_type": "execute_result"
    }
   ],
   "source": [
    "result = greet(\"BOB\")\n",
    "result"
   ]
  },
  {
   "cell_type": "code",
   "execution_count": 39,
   "id": "bcd2aa7c-ba3b-49e7-b42f-e66ffc6b3a37",
   "metadata": {},
   "outputs": [],
   "source": [
    "def greet(name) :\n",
    "    return f\"Hi, {name}~~\""
   ]
  },
  {
   "cell_type": "code",
   "execution_count": 45,
   "id": "379ac4b0-cb4f-4c53-ab53-71edee46c428",
   "metadata": {},
   "outputs": [
    {
     "data": {
      "text/plain": [
       "'Hi, sejin~~'"
      ]
     },
     "execution_count": 45,
     "metadata": {},
     "output_type": "execute_result"
    }
   ],
   "source": [
    "greet('sejin')"
   ]
  },
  {
   "cell_type": "code",
   "execution_count": 49,
   "id": "eb5c5f89-9180-4a8e-9ad7-b5c996ec6403",
   "metadata": {},
   "outputs": [],
   "source": [
    "sq = lambda x : x ** 2"
   ]
  },
  {
   "cell_type": "code",
   "execution_count": 51,
   "id": "94c76c8e-6a18-42b2-9053-e123aeb833f4",
   "metadata": {},
   "outputs": [
    {
     "data": {
      "text/plain": [
       "25"
      ]
     },
     "execution_count": 51,
     "metadata": {},
     "output_type": "execute_result"
    }
   ],
   "source": [
    "sq(5)"
   ]
  },
  {
   "cell_type": "code",
   "execution_count": 53,
   "id": "478e890f-0120-4d47-9313-b2adbfabc22a",
   "metadata": {},
   "outputs": [
    {
     "name": "stdout",
     "output_type": "stream",
     "text": [
      "[1, 4, 9, 16, 25]\n"
     ]
    }
   ],
   "source": [
    "numbers = [1,2,3,4,5]\n",
    "squares = list(map(lambda x: x**2, numbers))\n",
    "print(squares)"
   ]
  },
  {
   "cell_type": "code",
   "execution_count": 55,
   "id": "8fc61f5e-e102-49b3-b5c7-141a2e1159fd",
   "metadata": {},
   "outputs": [],
   "source": [
    "def add(*args) :\n",
    "    return sum(args)"
   ]
  },
  {
   "cell_type": "code",
   "execution_count": 57,
   "id": "888f58e6-4ffa-4d5a-91e1-36a209decdd7",
   "metadata": {},
   "outputs": [
    {
     "data": {
      "text/plain": [
       "10"
      ]
     },
     "execution_count": 57,
     "metadata": {},
     "output_type": "execute_result"
    }
   ],
   "source": [
    "add(1,2,3,4)"
   ]
  },
  {
   "cell_type": "code",
   "execution_count": 59,
   "id": "2ec92b6c-d0a2-4bf8-a810-b2afc9d851c4",
   "metadata": {},
   "outputs": [],
   "source": [
    "def introduce(**kwargs) :\n",
    "    for key, value in kwargs.items() :\n",
    "        print(f\"{key}: {value}\")"
   ]
  },
  {
   "cell_type": "code",
   "execution_count": 61,
   "id": "ddec57bb-42a6-4a56-acb4-4527b8d95f98",
   "metadata": {},
   "outputs": [
    {
     "name": "stdout",
     "output_type": "stream",
     "text": [
      "name: Abby\n",
      "age: 30\n",
      "city: Dongtan\n"
     ]
    }
   ],
   "source": [
    "introduce(name = 'Abby', age = 30, city = 'Dongtan')"
   ]
  },
  {
   "cell_type": "code",
   "execution_count": 63,
   "id": "a307867e-6188-4b6b-b281-ca058eaa9829",
   "metadata": {},
   "outputs": [
    {
     "data": {
      "text/plain": [
       "[2, 4]"
      ]
     },
     "execution_count": 63,
     "metadata": {},
     "output_type": "execute_result"
    }
   ],
   "source": [
    "num = [1,2,3,4]\n",
    "evens = list(filter(lambda x: x%2 == 0, numbers))\n",
    "evens"
   ]
  },
  {
   "cell_type": "code",
   "execution_count": 65,
   "id": "90ea7198-68c3-4148-b13b-74c01d668059",
   "metadata": {},
   "outputs": [],
   "source": [
    "words = [\"apple\", \"banana\", \"cat\", \"dog\", \"elephant\"]\n",
    "\n",
    "def is_long(word):\n",
    "    return len(word) >= 5"
   ]
  },
  {
   "cell_type": "code",
   "execution_count": 67,
   "id": "83fcf1d6-75ad-440b-9db8-30f90cff1f86",
   "metadata": {},
   "outputs": [
    {
     "name": "stdout",
     "output_type": "stream",
     "text": [
      "['apple', 'banana', 'elephant']\n"
     ]
    }
   ],
   "source": [
    "long_words = list(filter(is_long, words))\n",
    "print(long_words)"
   ]
  },
  {
   "cell_type": "code",
   "execution_count": 85,
   "id": "0f1dcfa0-f7e5-4781-8f1b-88749537471c",
   "metadata": {},
   "outputs": [],
   "source": [
    "from functools import reduce\n",
    "num = [1,2,3,4]\n",
    "product = reduce(lambda x,y: x*y, num)"
   ]
  },
  {
   "cell_type": "code",
   "execution_count": 87,
   "id": "e733fa17-3405-4f9d-b6ae-60ed9c6301ca",
   "metadata": {},
   "outputs": [
    {
     "data": {
      "text/plain": [
       "24"
      ]
     },
     "execution_count": 87,
     "metadata": {},
     "output_type": "execute_result"
    }
   ],
   "source": [
    "product"
   ]
  },
  {
   "cell_type": "code",
   "execution_count": 89,
   "id": "581c1726-83d4-47e5-82e0-eebd9ed29778",
   "metadata": {},
   "outputs": [],
   "source": [
    "class Dog:\n",
    "    def __init__(self, name, age):\n",
    "        self.name = name\n",
    "        self.age = age\n",
    "\n",
    "    def bark(self):\n",
    "        return \"Woof!\""
   ]
  },
  {
   "cell_type": "code",
   "execution_count": 91,
   "id": "0186f2d4-56ff-453e-a86a-b296c032f3b7",
   "metadata": {},
   "outputs": [
    {
     "data": {
      "text/plain": [
       "'Olly'"
      ]
     },
     "execution_count": 91,
     "metadata": {},
     "output_type": "execute_result"
    }
   ],
   "source": [
    "my_dog = Dog(\"Olly\", 3)\n",
    "my_dog.name"
   ]
  },
  {
   "cell_type": "code",
   "execution_count": 95,
   "id": "edd19ba3-c25b-4926-9880-dd74fcfee24c",
   "metadata": {},
   "outputs": [
    {
     "data": {
      "text/plain": [
       "'Woof!'"
      ]
     },
     "execution_count": 95,
     "metadata": {},
     "output_type": "execute_result"
    }
   ],
   "source": [
    "my_dog.bark()"
   ]
  },
  {
   "cell_type": "code",
   "execution_count": 97,
   "id": "8e558bec-a12f-4122-bfc5-838e06d5a1dd",
   "metadata": {},
   "outputs": [
    {
     "data": {
      "text/plain": [
       "'옞댕이'"
      ]
     },
     "execution_count": 97,
     "metadata": {},
     "output_type": "execute_result"
    }
   ],
   "source": [
    "sejin_dog = Dog(\"옞댕이\", 30)\n",
    "sejin_dog.name"
   ]
  },
  {
   "cell_type": "code",
   "execution_count": 99,
   "id": "76cafeeb-cb2d-4678-910b-e3f2c744ad68",
   "metadata": {},
   "outputs": [
    {
     "data": {
      "text/plain": [
       "'Woof!'"
      ]
     },
     "execution_count": 99,
     "metadata": {},
     "output_type": "execute_result"
    }
   ],
   "source": [
    "sejin_dog.bark()"
   ]
  },
  {
   "cell_type": "code",
   "execution_count": 111,
   "id": "9af72739-c4c5-4285-9266-4bd10df94f53",
   "metadata": {},
   "outputs": [],
   "source": [
    "class Animal:\n",
    "    def __init__(self, name):\n",
    "        self.name = name\n",
    "\n",
    "    def speak(self):\n",
    "        raise NotImplementedError(\"Subclass must implement abstract method\")\n",
    "\n",
    "class Dog(Animal):\n",
    "    def speak(self):\n",
    "        return \"Woof!\"\n",
    "\n",
    "class Cat(Animal):\n",
    "    def speak(self):\n",
    "        return \"Meow!\"\n",
    "\n",
    "class Cute(Animal):\n",
    "    def speak(self):\n",
    "        return \"사랑해<3\""
   ]
  },
  {
   "cell_type": "code",
   "execution_count": 115,
   "id": "5303b348-10da-48f6-bdd6-2e27773f8a9b",
   "metadata": {},
   "outputs": [
    {
     "name": "stdout",
     "output_type": "stream",
     "text": [
      "Olly says Woof!\n",
      "Lion says Meow!\n",
      "옞댕이 says 사랑해<3\n"
     ]
    }
   ],
   "source": [
    "animals = [Dog(\"Olly\"), Cat(\"Lion\"), Cute(\"옞댕이\")]\n",
    "for animal in animals:\n",
    "    print(f\"{animal.name} says {animal.speak()}\")"
   ]
  },
  {
   "cell_type": "code",
   "execution_count": 117,
   "id": "b4143e8d-8303-42a5-8f8a-33ed5d6fddc1",
   "metadata": {},
   "outputs": [],
   "source": [
    "class Book:\n",
    "    def __init__(self, title, author):\n",
    "        self.title = title\n",
    "        self.author = author\n",
    "\n",
    "    def __str__(self):\n",
    "        return f\"{self.title} by {self.author}\"\n",
    "\n",
    "    def __repr__(self):\n",
    "        return f\"Book({self.title}, {self.author})\""
   ]
  },
  {
   "cell_type": "code",
   "execution_count": 121,
   "id": "9d5e880d-6235-4721-831e-788181d5cede",
   "metadata": {},
   "outputs": [
    {
     "name": "stdout",
     "output_type": "stream",
     "text": [
      "1984 by George Orwell\n",
      "Book(1984, George Orwell)\n"
     ]
    }
   ],
   "source": [
    "myBook = Book('1984','George Orwell')\n",
    "print(str(myBook))\n",
    "print(repr(myBook))"
   ]
  },
  {
   "cell_type": "code",
   "execution_count": 141,
   "id": "f778aaaf-e6c8-420f-8dd4-0a8f3363e178",
   "metadata": {},
   "outputs": [],
   "source": [
    "class Vector:\n",
    "    def __init__(self, x, y):\n",
    "        self.x = x\n",
    "        self.y = y\n",
    "\n",
    "    def __add__(self, other):\n",
    "        return Vector(self.x + other.x, self.y + other.y)\n",
    "\n",
    "    def __str__(self):\n",
    "        return f\"Vector({self.x}, {self.y})\""
   ]
  },
  {
   "cell_type": "code",
   "execution_count": 143,
   "id": "0a85ad4c-1e2d-4b61-bc20-4090f8bc1fab",
   "metadata": {},
   "outputs": [],
   "source": [
    "v1 = Vector(2,3)\n",
    "v2 = Vector(5,7)"
   ]
  },
  {
   "cell_type": "code",
   "execution_count": 145,
   "id": "5e687ef8-ae6b-42eb-bbf1-d6485df97a6d",
   "metadata": {},
   "outputs": [
    {
     "name": "stdout",
     "output_type": "stream",
     "text": [
      "Vector(5, 7)\n"
     ]
    }
   ],
   "source": [
    "print(v2)"
   ]
  },
  {
   "cell_type": "code",
   "execution_count": 147,
   "id": "bf5b7f49-2b59-44b4-b714-39d770be672b",
   "metadata": {},
   "outputs": [],
   "source": [
    "v3 = v1 + v2"
   ]
  },
  {
   "cell_type": "code",
   "execution_count": 149,
   "id": "5bee9a8a-7426-460d-979a-21382e66dd97",
   "metadata": {},
   "outputs": [
    {
     "data": {
      "text/plain": [
       "<__main__.Vector at 0x12d8194f0>"
      ]
     },
     "execution_count": 149,
     "metadata": {},
     "output_type": "execute_result"
    }
   ],
   "source": [
    "v3"
   ]
  },
  {
   "cell_type": "code",
   "execution_count": 151,
   "id": "518768a4-efa1-48af-ad1c-9752ffe2c7b4",
   "metadata": {},
   "outputs": [
    {
     "name": "stdout",
     "output_type": "stream",
     "text": [
      "Vector(7, 10)\n"
     ]
    }
   ],
   "source": [
    "print(v3)"
   ]
  },
  {
   "cell_type": "code",
   "execution_count": 165,
   "id": "f7484beb-56b1-49c2-b95f-c20fee9e1a94",
   "metadata": {},
   "outputs": [
    {
     "name": "stdout",
     "output_type": "stream",
     "text": [
      "1\n",
      "2\n",
      "3\n",
      "4\n",
      "5\n"
     ]
    }
   ],
   "source": [
    "class Counter:\n",
    "    def __init__(self, max):\n",
    "        self.max = max\n",
    "        self.current = 0\n",
    "\n",
    "    def __iter__(self):\n",
    "        return self\n",
    "\n",
    "    def __next__(self):\n",
    "        if self.current < self.max:\n",
    "            self.current += 1\n",
    "            return self.current\n",
    "        else:\n",
    "            raise StopIteration\n",
    "\n",
    "counter = Counter(5)\n",
    "for num in counter:\n",
    "    print(num)"
   ]
  },
  {
   "cell_type": "code",
   "execution_count": 159,
   "id": "2660eb9b-bdd0-4b43-909e-a9074a5c40af",
   "metadata": {},
   "outputs": [
    {
     "name": "stdout",
     "output_type": "stream",
     "text": [
      "1\n",
      "2\n",
      "3\n",
      "4\n",
      "5\n"
     ]
    }
   ],
   "source": [
    "for num in counter:\n",
    "    print(num)\n",
    "\n",
    "def count_up_to(max):\n",
    "    count = 1\n",
    "    while count <= max:\n",
    "        yield count\n",
    "        count += 1\n",
    "\n",
    "counter = count_up_to(5)"
   ]
  },
  {
   "cell_type": "code",
   "execution_count": null,
   "id": "71d7678a-8d07-4753-8c9c-14d3ebf2b05c",
   "metadata": {},
   "outputs": [],
   "source": []
  }
 ],
 "metadata": {
  "kernelspec": {
   "display_name": "Python 3 (ipykernel)",
   "language": "python",
   "name": "python3"
  },
  "language_info": {
   "codemirror_mode": {
    "name": "ipython",
    "version": 3
   },
   "file_extension": ".py",
   "mimetype": "text/x-python",
   "name": "python",
   "nbconvert_exporter": "python",
   "pygments_lexer": "ipython3",
   "version": "3.12.4"
  }
 },
 "nbformat": 4,
 "nbformat_minor": 5
}
